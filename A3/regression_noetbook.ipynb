{
 "cells": [
  {
   "cell_type": "code",
   "execution_count": 1,
   "metadata": {},
   "outputs": [],
   "source": [
    "import pandas as pd\n",
    "import numpy as np"
   ]
  },
  {
   "cell_type": "code",
   "execution_count": 13,
   "metadata": {},
   "outputs": [
    {
     "name": "stdout",
     "output_type": "stream",
     "text": [
      "                 Country    1999    2000    2001    2002    2003    2004     2005     2006     2007     2008     2009     2010     2012     2013     2014     2015     2016     2017     2018     2019     2020     2021     2022\n",
      "0  Afghanistan, Rep. of.   0.000   0.000   0.000   4.084   4.585   5.971    7.309    8.399    9.892   11.513   13.318   15.406   19.248   21.555   24.304    0.000    0.000    0.000    0.000    0.000    0.000    0.000    0.000\n",
      "1                Albania   3.444   3.695   4.096   4.456   5.600   7.452    8.376    9.133   10.163   11.131   11.726   11.797   13.808   14.910   16.053   11.591   12.204   13.214   14.341   15.553   16.996   16.770   18.012\n",
      "2                Algeria  48.845  54.749  55.181  57.053  68.013  85.016  102.380  114.322  116.158  126.889  134.797  154.843  177.830  190.432  203.449  175.077  181.710  192.256  202.179  210.906  219.160  163.812  168.195\n",
      "3                 Angola   6.153   9.135   8.936  11.386  13.956  19.800   30.632   43.759   55.370   67.608   69.708   87.718  118.426  136.415  151.089  102.011   98.815  105.369  112.533  119.403  127.150   70.339   74.953\n",
      "4    Antigua and Barbuda   0.652   0.678   0.710   0.718   0.754   0.818    0.875    0.962    1.026    1.074    1.180    1.196    1.322    1.404    1.494    1.285    1.328    1.386    1.458    1.536    1.617    1.405    1.534\n"
     ]
    }
   ],
   "source": [
    "df = pd.read_csv('datasets/gdp_by_country_1999_2022.csv', sep=',', header=0, thousands=\",\")\n",
    "print(df.head().to_string(line_width=1000))"
   ]
  }
 ],
 "metadata": {
  "kernelspec": {
   "display_name": "Python 3",
   "language": "python",
   "name": "python3"
  },
  "language_info": {
   "codemirror_mode": {
    "name": "ipython",
    "version": 3
   },
   "file_extension": ".py",
   "mimetype": "text/x-python",
   "name": "python",
   "nbconvert_exporter": "python",
   "pygments_lexer": "ipython3",
   "version": "3.11.6"
  }
 },
 "nbformat": 4,
 "nbformat_minor": 2
}
